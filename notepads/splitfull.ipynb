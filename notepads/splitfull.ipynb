{
 "cells": [
  {
   "cell_type": "markdown",
   "id": "1670c979-6aec-4970-aae1-e6ad9c3c35d9",
   "metadata": {},
   "source": [
    "# # Split the data into training and test data - full dataset"
   ]
  },
  {
   "cell_type": "markdown",
   "id": "88cac7b5-ffe5-49e1-9941-6f18cff2d702",
   "metadata": {},
   "source": [
    "## Importing the required modules"
   ]
  },
  {
   "cell_type": "code",
   "execution_count": 8,
   "id": "7a681a82-9cc5-4c38-8c9a-95a9c2aed242",
   "metadata": {},
   "outputs": [],
   "source": [
    "from math import sqrt\n",
    "import time\n",
    "import numpy as np\n",
    "import pandas as pd\n",
    "from prep import norm\n",
    "from util import tsplit"
   ]
  },
  {
   "cell_type": "markdown",
   "id": "8fb984c7-e4a1-4cf8-bc96-f61f7fa07bcb",
   "metadata": {},
   "source": [
    "## Registering the start time for runtime calculation"
   ]
  },
  {
   "cell_type": "code",
   "execution_count": 9,
   "id": "61a5f072-4bf6-4247-8eb6-f5a5735b563e",
   "metadata": {},
   "outputs": [],
   "source": [
    "start = time.time()"
   ]
  },
  {
   "cell_type": "markdown",
   "id": "1caa32e0-5318-4703-b9d0-2360d40d7170",
   "metadata": {},
   "source": [
    "## Normalizing the features"
   ]
  },
  {
   "cell_type": "code",
   "execution_count": 10,
   "id": "178f1c60-6b58-4ff7-9aed-d5f6867ec4d2",
   "metadata": {},
   "outputs": [
    {
     "name": "stdout",
     "output_type": "stream",
     "text": [
      "Normalised from min = 0.000 and max = 22590.000 to min = 0.000 and max = 1.000\n"
     ]
    }
   ],
   "source": [
    "norm('../data/sup.csv', '../data/sup_norm.csv')"
   ]
  },
  {
   "cell_type": "markdown",
   "id": "f6e74ca9-a692-4c9a-84ba-bacf6327f475",
   "metadata": {},
   "source": [
    "## Split into training and test data"
   ]
  },
  {
   "cell_type": "code",
   "execution_count": 11,
   "id": "228227dc-edfa-45df-875b-eaca0d4a5e3e",
   "metadata": {},
   "outputs": [
    {
     "name": "stdout",
     "output_type": "stream",
     "text": [
      "21263 instances split into 15947 training instances and 5316 test instances -> 33.34%\n"
     ]
    }
   ],
   "source": [
    "tsplit('../data/sup_norm.csv', '../data/sup_norm_tr.csv', '../data/sup_norm_te.csv')"
   ]
  },
  {
   "cell_type": "code",
   "execution_count": 12,
   "id": "c50ce310-f524-43f8-aa31-f73ae482599f",
   "metadata": {},
   "outputs": [
    {
     "name": "stdout",
     "output_type": "stream",
     "text": [
      "Runtime = 6.96 s\n"
     ]
    }
   ],
   "source": [
    "end = time.time()\n",
    "runtime = end - start\n",
    "print(f\"Runtime = {runtime:.2f} s\")"
   ]
  }
 ],
 "metadata": {
  "interpreter": {
   "hash": "db73aef5070c8f19c39b207c79e30077e37eac67985b330339772378c1a6ef64"
  },
  "kernelspec": {
   "display_name": "Python 3.9.0 ('.venv': venv)",
   "language": "python",
   "name": "python3"
  },
  "language_info": {
   "codemirror_mode": {
    "name": "ipython",
    "version": 3
   },
   "file_extension": ".py",
   "mimetype": "text/x-python",
   "name": "python",
   "nbconvert_exporter": "python",
   "pygments_lexer": "ipython3",
   "version": "3.9.0"
  }
 },
 "nbformat": 4,
 "nbformat_minor": 5
}
