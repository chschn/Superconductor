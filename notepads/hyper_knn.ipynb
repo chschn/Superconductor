{
 "cells": [
  {
   "cell_type": "markdown",
   "id": "1670c979-6aec-4970-aae1-e6ad9c3c35d9",
   "metadata": {},
   "source": [
    "# Hyperparameter optimization for kNN"
   ]
  },
  {
   "cell_type": "markdown",
   "id": "88cac7b5-ffe5-49e1-9941-6f18cff2d702",
   "metadata": {},
   "source": [
    "## Importing the required modules"
   ]
  },
  {
   "cell_type": "code",
   "execution_count": 14,
   "id": "7a681a82-9cc5-4c38-8c9a-95a9c2aed242",
   "metadata": {},
   "outputs": [],
   "source": [
    "import time\n",
    "import numpy as np\n",
    "import pandas as pd\n",
    "from util import read_train_test\n",
    "from hypopt import knnhyp"
   ]
  },
  {
   "cell_type": "markdown",
   "id": "8fb984c7-e4a1-4cf8-bc96-f61f7fa07bcb",
   "metadata": {},
   "source": [
    "## Registering the start time for runtime calculation"
   ]
  },
  {
   "cell_type": "code",
   "execution_count": 15,
   "id": "61a5f072-4bf6-4247-8eb6-f5a5735b563e",
   "metadata": {},
   "outputs": [],
   "source": [
    "start = time.time()"
   ]
  },
  {
   "cell_type": "markdown",
   "id": "665fd02f-a961-4e80-b86f-8e13598f4c6a",
   "metadata": {
    "tags": []
   },
   "source": [
    "## Reading the training and test data from file"
   ]
  },
  {
   "cell_type": "code",
   "execution_count": 16,
   "id": "c38e5c24-c126-4795-a81e-1abed7f7ead5",
   "metadata": {},
   "outputs": [],
   "source": [
    "x_train, x_test, y_train, y_test = read_train_test('../data/sup_dedup_norm_red_tr.csv', '../data/sup_dedup_norm_red_te.csv')"
   ]
  },
  {
   "cell_type": "markdown",
   "id": "06df096e-c942-4131-bb36-dbafa4708e1a",
   "metadata": {},
   "source": [
    "## Hyperparameter optimization - kNN"
   ]
  },
  {
   "cell_type": "code",
   "execution_count": 17,
   "id": "69e60f58-eb7f-4526-b7fb-f1fd2f535b17",
   "metadata": {},
   "outputs": [
    {
     "name": "stdout",
     "output_type": "stream",
     "text": [
      "k = 1, rmse_knn = 13.0609\n",
      "k = 2, rmse_knn = 11.9067\n",
      "k = 3, rmse_knn = 11.6907\n",
      "k = 4, rmse_knn = 11.7252\n",
      "k = 5, rmse_knn = 11.8022\n",
      "k = 6, rmse_knn = 11.8095\n",
      "k = 7, rmse_knn = 11.8722\n",
      "k = 8, rmse_knn = 11.9211\n",
      "k = 9, rmse_knn = 11.9791\n",
      "k = 10, rmse_knn = 11.9995\n",
      "k = 11, rmse_knn = 12.0685\n",
      "k = 12, rmse_knn = 12.1258\n",
      "k = 13, rmse_knn = 12.1582\n",
      "k = 14, rmse_knn = 12.1939\n",
      "k = 15, rmse_knn = 12.2496\n",
      "k = 16, rmse_knn = 12.2941\n",
      "k = 17, rmse_knn = 12.3562\n",
      "k = 18, rmse_knn = 12.4086\n",
      "k = 19, rmse_knn = 12.4478\n",
      "k = 20, rmse_knn = 12.5069\n",
      "Optimum point with RMSE = 11.6907 found at [3]\n"
     ]
    },
    {
     "data": {
      "image/png": "[encoded data removed]",
      "text/plain": [
       "<Figure size 432x432 with 1 Axes>"
      ]
     },
     "metadata": {
      "needs_background": "light"
     },
     "output_type": "display_data"
    }
   ],
   "source": [
    "kopt, rmse_knn = knnhyp(x_train, x_test, y_train, y_test, kmin=1, kmax=20, outfile_log='../hyper/hyperlog_knn.txt', outfile_dat='../hyper/hyperdata_knn.csv', outfile_fig='../hyper/hypergraph_knn.jpg')"
   ]
  },
  {
   "cell_type": "markdown",
   "id": "e3000d83-27c3-4b41-942b-930fa051e33a",
   "metadata": {},
   "source": [
    "## Output of elapsed time"
   ]
  },
  {
   "cell_type": "code",
   "execution_count": 18,
   "id": "c50ce310-f524-43f8-aa31-f73ae482599f",
   "metadata": {},
   "outputs": [
    {
     "name": "stdout",
     "output_type": "stream",
     "text": [
      "Runtime = 4.14 s\n"
     ]
    }
   ],
   "source": [
    "end = time.time()\n",
    "runtime = end - start\n",
    "print(f\"Runtime = {runtime:.2f} s\")"
   ]
  }
 ],
 "metadata": {
  "kernelspec": {
   "display_name": "Python 3 (ipykernel)",
   "language": "python",
   "name": "python3"
  },
  "language_info": {
   "codemirror_mode": {
    "name": "ipython",
    "version": 3
   },
   "file_extension": ".py",
   "mimetype": "text/x-python",
   "name": "python",
   "nbconvert_exporter": "python",
   "pygments_lexer": "ipython3",
   "version": "3.7.11"
  }
 },
 "nbformat": 4,
 "nbformat_minor": 5
}
